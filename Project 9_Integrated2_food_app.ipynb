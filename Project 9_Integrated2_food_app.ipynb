{
 "cells": [
  {
   "cell_type": "markdown",
   "metadata": {},
   "source": [
    "# Project 9_Integrated_2"
   ]
  },
  {
   "cell_type": "markdown",
   "metadata": {},
   "source": [
    "I work at a startup that sells food products and it's need to investigate user behavior for the company's app"
   ]
  },
  {
   "cell_type": "markdown",
   "metadata": {},
   "source": [
    "## Purpose of the project\n",
    "\n",
    "Purposes of the analysis are to find out the event funnel, determine how users reach the purchase stage and then to perform A/A/B test to investigate whether the change in design of the fonts for the entire application has an influence to users behavior.\n",
    "First we should study the sales funnel. Find out how users reach the purchase stage and define how many users actually make it to this stage, how many users get stuck at previous stages.\n",
    "Then interpret the results of an A/A/B tests. The designers would like to change the fonts for the entire app, but the users might find the new design intimidating. The analysis should help to make a decision based on the results of the following A/A/B test- the users are splited into three groups. Two control groups get the old fonts and one test group gets the new ones. Creating two A groups has certain advantages. We can make it a principle that we will only be confident in the accuracy of our testing when the two control groups are similar. If there are significant differences between the A groups, this can help us uncover factors that may be distorting the results. \n"
   ]
  },
  {
   "cell_type": "markdown",
   "metadata": {},
   "source": [
    " ## 1. Open the data file and read the general information\n"
   ]
  },
  {
   "cell_type": "code",
   "execution_count": null,
   "metadata": {},
   "outputs": [],
   "source": [
    "!pip install -qq --user statsmodels"
   ]
  },
  {
   "cell_type": "code",
   "execution_count": 1,
   "metadata": {},
   "outputs": [],
   "source": [
    "# Loading all the libraries\n",
    "import pandas as pd\n",
    "import numpy as np\n",
    "import matplotlib.pyplot as plt\n",
    "import matplotlib.dates as mdates\n",
    "from statsmodels.stats.proportion import proportions_ztest\n",
    "import seaborn as sns\n",
    "import plotly.express as px\n",
    "import plotly.graph_objects as go\n",
    "from scipy import stats as st\n",
    "from functools import reduce\n",
    "from dateutil.relativedelta import relativedelta\n",
    "import datetime\n",
    "from datetime import timedelta"
   ]
  },
  {
   "cell_type": "code",
   "execution_count": 4,
   "metadata": {},
   "outputs": [
    {
     "data": {
      "text/html": [
       "<div>\n",
       "<style scoped>\n",
       "    .dataframe tbody tr th:only-of-type {\n",
       "        vertical-align: middle;\n",
       "    }\n",
       "\n",
       "    .dataframe tbody tr th {\n",
       "        vertical-align: top;\n",
       "    }\n",
       "\n",
       "    .dataframe thead th {\n",
       "        text-align: right;\n",
       "    }\n",
       "</style>\n",
       "<table border=\"1\" class=\"dataframe\">\n",
       "  <thead>\n",
       "    <tr style=\"text-align: right;\">\n",
       "      <th></th>\n",
       "      <th>EventName\\tDeviceIDHash\\tEventTimestamp\\tExpId</th>\n",
       "    </tr>\n",
       "  </thead>\n",
       "  <tbody>\n",
       "    <tr>\n",
       "      <th>0</th>\n",
       "      <td>MainScreenAppear\\t4575588528974610257\\t1564029...</td>\n",
       "    </tr>\n",
       "    <tr>\n",
       "      <th>1</th>\n",
       "      <td>MainScreenAppear\\t7416695313311560658\\t1564053...</td>\n",
       "    </tr>\n",
       "    <tr>\n",
       "      <th>2</th>\n",
       "      <td>PaymentScreenSuccessful\\t3518123091307005509\\t...</td>\n",
       "    </tr>\n",
       "    <tr>\n",
       "      <th>3</th>\n",
       "      <td>CartScreenAppear\\t3518123091307005509\\t1564054...</td>\n",
       "    </tr>\n",
       "    <tr>\n",
       "      <th>4</th>\n",
       "      <td>PaymentScreenSuccessful\\t6217807653094995999\\t...</td>\n",
       "    </tr>\n",
       "  </tbody>\n",
       "</table>\n",
       "</div>"
      ],
      "text/plain": [
       "      EventName\\tDeviceIDHash\\tEventTimestamp\\tExpId\n",
       "0  MainScreenAppear\\t4575588528974610257\\t1564029...\n",
       "1  MainScreenAppear\\t7416695313311560658\\t1564053...\n",
       "2  PaymentScreenSuccessful\\t3518123091307005509\\t...\n",
       "3  CartScreenAppear\\t3518123091307005509\\t1564054...\n",
       "4  PaymentScreenSuccessful\\t6217807653094995999\\t..."
      ]
     },
     "execution_count": 4,
     "metadata": {},
     "output_type": "execute_result"
    }
   ],
   "source": [
    "# Load the data file\n",
    "df = pd.read_csv('C:/logs_exp_us.csv') \n",
    "#let's print the first 5 rows\n",
    "df.head()"
   ]
  },
  {
   "cell_type": "code",
   "execution_count": 6,
   "metadata": {},
   "outputs": [
    {
     "data": {
      "text/html": [
       "<div>\n",
       "<style scoped>\n",
       "    .dataframe tbody tr th:only-of-type {\n",
       "        vertical-align: middle;\n",
       "    }\n",
       "\n",
       "    .dataframe tbody tr th {\n",
       "        vertical-align: top;\n",
       "    }\n",
       "\n",
       "    .dataframe thead th {\n",
       "        text-align: right;\n",
       "    }\n",
       "</style>\n",
       "<table border=\"1\" class=\"dataframe\">\n",
       "  <thead>\n",
       "    <tr style=\"text-align: right;\">\n",
       "      <th></th>\n",
       "      <th>EventName</th>\n",
       "      <th>DeviceIDHash</th>\n",
       "      <th>EventTimestamp</th>\n",
       "      <th>ExpId</th>\n",
       "    </tr>\n",
       "  </thead>\n",
       "  <tbody>\n",
       "    <tr>\n",
       "      <th>0</th>\n",
       "      <td>MainScreenAppear</td>\n",
       "      <td>4575588528974610257</td>\n",
       "      <td>1564029816</td>\n",
       "      <td>246</td>\n",
       "    </tr>\n",
       "    <tr>\n",
       "      <th>1</th>\n",
       "      <td>MainScreenAppear</td>\n",
       "      <td>7416695313311560658</td>\n",
       "      <td>1564053102</td>\n",
       "      <td>246</td>\n",
       "    </tr>\n",
       "    <tr>\n",
       "      <th>2</th>\n",
       "      <td>PaymentScreenSuccessful</td>\n",
       "      <td>3518123091307005509</td>\n",
       "      <td>1564054127</td>\n",
       "      <td>248</td>\n",
       "    </tr>\n",
       "    <tr>\n",
       "      <th>3</th>\n",
       "      <td>CartScreenAppear</td>\n",
       "      <td>3518123091307005509</td>\n",
       "      <td>1564054127</td>\n",
       "      <td>248</td>\n",
       "    </tr>\n",
       "    <tr>\n",
       "      <th>4</th>\n",
       "      <td>PaymentScreenSuccessful</td>\n",
       "      <td>6217807653094995999</td>\n",
       "      <td>1564055322</td>\n",
       "      <td>248</td>\n",
       "    </tr>\n",
       "  </tbody>\n",
       "</table>\n",
       "</div>"
      ],
      "text/plain": [
       "                 EventName         DeviceIDHash  EventTimestamp  ExpId\n",
       "0         MainScreenAppear  4575588528974610257      1564029816    246\n",
       "1         MainScreenAppear  7416695313311560658      1564053102    246\n",
       "2  PaymentScreenSuccessful  3518123091307005509      1564054127    248\n",
       "3         CartScreenAppear  3518123091307005509      1564054127    248\n",
       "4  PaymentScreenSuccessful  6217807653094995999      1564055322    248"
      ]
     },
     "execution_count": 6,
     "metadata": {},
     "output_type": "execute_result"
    }
   ],
   "source": [
    "#We hahe a \\t symbol as a separator\n",
    "df = pd.read_csv('C:/logs_exp_us.csv', sep='\\t') \n",
    "#let's print the first 5 rows\n",
    "df.head()"
   ]
  },
  {
   "cell_type": "markdown",
   "metadata": {},
   "source": [
    "### Description of the data\n",
    "Each log entry is a user action or an event.\n",
    "#### EventName — event name\n",
    "#### DeviceIDHash — unique user identifier\n",
    "#### EventTimestamp — event time\n",
    "#### ExpId — experiment number: 246 and 247 are the control groups, 248 is the test group"
   ]
  },
  {
   "cell_type": "markdown",
   "metadata": {},
   "source": [
    "## 2. Prepare the data for analysis\n",
    "Rename the columns, check for missing values and data types, add a date and time column and a separate column for dates."
   ]
  },
  {
   "cell_type": "code",
   "execution_count": 7,
   "metadata": {},
   "outputs": [
    {
     "name": "stdout",
     "output_type": "stream",
     "text": [
      "<class 'pandas.core.frame.DataFrame'>\n",
      "RangeIndex: 244126 entries, 0 to 244125\n",
      "Data columns (total 4 columns):\n",
      " #   Column          Non-Null Count   Dtype \n",
      "---  ------          --------------   ----- \n",
      " 0   EventName       244126 non-null  object\n",
      " 1   DeviceIDHash    244126 non-null  int64 \n",
      " 2   EventTimestamp  244126 non-null  int64 \n",
      " 3   ExpId           244126 non-null  int64 \n",
      "dtypes: int64(3), object(1)\n",
      "memory usage: 7.5+ MB\n"
     ]
    }
   ],
   "source": [
    "# print the general information about\n",
    "df.info()"
   ]
  },
  {
   "cell_type": "markdown",
   "metadata": {},
   "source": [
    "No missing values"
   ]
  },
  {
   "cell_type": "code",
   "execution_count": 8,
   "metadata": {},
   "outputs": [
    {
     "data": {
      "text/plain": [
       "413"
      ]
     },
     "execution_count": 8,
     "metadata": {},
     "output_type": "execute_result"
    }
   ],
   "source": [
    "#Check for duplicates\n",
    "df.duplicated().sum()"
   ]
  },
  {
   "cell_type": "markdown",
   "metadata": {},
   "source": [
    "A little pice of the dataframe"
   ]
  },
  {
   "cell_type": "code",
   "execution_count": 9,
   "metadata": {},
   "outputs": [
    {
     "data": {
      "text/plain": [
       "0"
      ]
     },
     "execution_count": 9,
     "metadata": {},
     "output_type": "execute_result"
    }
   ],
   "source": [
    "#Remove duplicates\n",
    "df.drop_duplicates(inplace=True)\n",
    "\n",
    "#Check\n",
    "df.duplicated().sum()"
   ]
  },
  {
   "cell_type": "code",
   "execution_count": 10,
   "metadata": {},
   "outputs": [
    {
     "data": {
      "text/html": [
       "<div>\n",
       "<style scoped>\n",
       "    .dataframe tbody tr th:only-of-type {\n",
       "        vertical-align: middle;\n",
       "    }\n",
       "\n",
       "    .dataframe tbody tr th {\n",
       "        vertical-align: top;\n",
       "    }\n",
       "\n",
       "    .dataframe thead th {\n",
       "        text-align: right;\n",
       "    }\n",
       "</style>\n",
       "<table border=\"1\" class=\"dataframe\">\n",
       "  <thead>\n",
       "    <tr style=\"text-align: right;\">\n",
       "      <th></th>\n",
       "      <th>event_name</th>\n",
       "      <th>user_id</th>\n",
       "      <th>ts</th>\n",
       "      <th>group</th>\n",
       "    </tr>\n",
       "  </thead>\n",
       "  <tbody>\n",
       "    <tr>\n",
       "      <th>0</th>\n",
       "      <td>MainScreenAppear</td>\n",
       "      <td>4575588528974610257</td>\n",
       "      <td>1564029816</td>\n",
       "      <td>246</td>\n",
       "    </tr>\n",
       "    <tr>\n",
       "      <th>1</th>\n",
       "      <td>MainScreenAppear</td>\n",
       "      <td>7416695313311560658</td>\n",
       "      <td>1564053102</td>\n",
       "      <td>246</td>\n",
       "    </tr>\n",
       "    <tr>\n",
       "      <th>2</th>\n",
       "      <td>PaymentScreenSuccessful</td>\n",
       "      <td>3518123091307005509</td>\n",
       "      <td>1564054127</td>\n",
       "      <td>248</td>\n",
       "    </tr>\n",
       "    <tr>\n",
       "      <th>3</th>\n",
       "      <td>CartScreenAppear</td>\n",
       "      <td>3518123091307005509</td>\n",
       "      <td>1564054127</td>\n",
       "      <td>248</td>\n",
       "    </tr>\n",
       "    <tr>\n",
       "      <th>4</th>\n",
       "      <td>PaymentScreenSuccessful</td>\n",
       "      <td>6217807653094995999</td>\n",
       "      <td>1564055322</td>\n",
       "      <td>248</td>\n",
       "    </tr>\n",
       "  </tbody>\n",
       "</table>\n",
       "</div>"
      ],
      "text/plain": [
       "                event_name              user_id          ts  group\n",
       "0         MainScreenAppear  4575588528974610257  1564029816    246\n",
       "1         MainScreenAppear  7416695313311560658  1564053102    246\n",
       "2  PaymentScreenSuccessful  3518123091307005509  1564054127    248\n",
       "3         CartScreenAppear  3518123091307005509  1564054127    248\n",
       "4  PaymentScreenSuccessful  6217807653094995999  1564055322    248"
      ]
     },
     "execution_count": 10,
     "metadata": {},
     "output_type": "execute_result"
    }
   ],
   "source": [
    "#Rename columns\n",
    "df.columns = (['event_name', 'user_id', 'ts', 'group'])\n",
    "\n",
    "df.head()"
   ]
  },
  {
   "cell_type": "code",
   "execution_count": 11,
   "metadata": {},
   "outputs": [
    {
     "data": {
      "text/plain": [
       "array(['MainScreenAppear', 'PaymentScreenSuccessful', 'CartScreenAppear',\n",
       "       'OffersScreenAppear', 'Tutorial'], dtype=object)"
      ]
     },
     "execution_count": 11,
     "metadata": {},
     "output_type": "execute_result"
    }
   ],
   "source": [
    "#Check numer of values in `event_name` column\n",
    "df.event_name.unique()"
   ]
  },
  {
   "cell_type": "code",
   "execution_count": 12,
   "metadata": {},
   "outputs": [
    {
     "name": "stdout",
     "output_type": "stream",
     "text": [
      "<class 'pandas.core.frame.DataFrame'>\n",
      "Int64Index: 243713 entries, 0 to 244125\n",
      "Data columns (total 4 columns):\n",
      " #   Column      Non-Null Count   Dtype         \n",
      "---  ------      --------------   -----         \n",
      " 0   event_name  243713 non-null  category      \n",
      " 1   user_id     243713 non-null  int64         \n",
      " 2   ts          243713 non-null  datetime64[ns]\n",
      " 3   group       243713 non-null  int64         \n",
      "dtypes: category(1), datetime64[ns](1), int64(2)\n",
      "memory usage: 7.7 MB\n"
     ]
    }
   ],
   "source": [
    "#Change types of `event_name` column and `ts` column\n",
    "df['event_name'] = df['event_name'].astype('category')\n",
    "df['ts'] = pd.to_datetime(df['ts'], unit='s')\n",
    "df.info()"
   ]
  },
  {
   "cell_type": "code",
   "execution_count": 13,
   "metadata": {},
   "outputs": [
    {
     "data": {
      "text/html": [
       "<div>\n",
       "<style scoped>\n",
       "    .dataframe tbody tr th:only-of-type {\n",
       "        vertical-align: middle;\n",
       "    }\n",
       "\n",
       "    .dataframe tbody tr th {\n",
       "        vertical-align: top;\n",
       "    }\n",
       "\n",
       "    .dataframe thead th {\n",
       "        text-align: right;\n",
       "    }\n",
       "</style>\n",
       "<table border=\"1\" class=\"dataframe\">\n",
       "  <thead>\n",
       "    <tr style=\"text-align: right;\">\n",
       "      <th></th>\n",
       "      <th>event_name</th>\n",
       "      <th>user_id</th>\n",
       "      <th>ts</th>\n",
       "      <th>group</th>\n",
       "      <th>date</th>\n",
       "    </tr>\n",
       "  </thead>\n",
       "  <tbody>\n",
       "    <tr>\n",
       "      <th>0</th>\n",
       "      <td>MainScreenAppear</td>\n",
       "      <td>4575588528974610257</td>\n",
       "      <td>2019-07-25 04:43:36</td>\n",
       "      <td>246</td>\n",
       "      <td>2019-07-25</td>\n",
       "    </tr>\n",
       "    <tr>\n",
       "      <th>1</th>\n",
       "      <td>MainScreenAppear</td>\n",
       "      <td>7416695313311560658</td>\n",
       "      <td>2019-07-25 11:11:42</td>\n",
       "      <td>246</td>\n",
       "      <td>2019-07-25</td>\n",
       "    </tr>\n",
       "    <tr>\n",
       "      <th>2</th>\n",
       "      <td>PaymentScreenSuccessful</td>\n",
       "      <td>3518123091307005509</td>\n",
       "      <td>2019-07-25 11:28:47</td>\n",
       "      <td>248</td>\n",
       "      <td>2019-07-25</td>\n",
       "    </tr>\n",
       "    <tr>\n",
       "      <th>3</th>\n",
       "      <td>CartScreenAppear</td>\n",
       "      <td>3518123091307005509</td>\n",
       "      <td>2019-07-25 11:28:47</td>\n",
       "      <td>248</td>\n",
       "      <td>2019-07-25</td>\n",
       "    </tr>\n",
       "    <tr>\n",
       "      <th>4</th>\n",
       "      <td>PaymentScreenSuccessful</td>\n",
       "      <td>6217807653094995999</td>\n",
       "      <td>2019-07-25 11:48:42</td>\n",
       "      <td>248</td>\n",
       "      <td>2019-07-25</td>\n",
       "    </tr>\n",
       "  </tbody>\n",
       "</table>\n",
       "</div>"
      ],
      "text/plain": [
       "                event_name              user_id                  ts  group  \\\n",
       "0         MainScreenAppear  4575588528974610257 2019-07-25 04:43:36    246   \n",
       "1         MainScreenAppear  7416695313311560658 2019-07-25 11:11:42    246   \n",
       "2  PaymentScreenSuccessful  3518123091307005509 2019-07-25 11:28:47    248   \n",
       "3         CartScreenAppear  3518123091307005509 2019-07-25 11:28:47    248   \n",
       "4  PaymentScreenSuccessful  6217807653094995999 2019-07-25 11:48:42    248   \n",
       "\n",
       "         date  \n",
       "0  2019-07-25  \n",
       "1  2019-07-25  \n",
       "2  2019-07-25  \n",
       "3  2019-07-25  \n",
       "4  2019-07-25  "
      ]
     },
     "execution_count": 13,
     "metadata": {},
     "output_type": "execute_result"
    }
   ],
   "source": [
    "#Adding date column\n",
    "df['date'] = df['ts'].dt.date\n",
    "df.head()"
   ]
  },
  {
   "cell_type": "markdown",
   "metadata": {},
   "source": [
    "## 3. Study and check the data\n",
    "\n"
   ]
  },
  {
   "cell_type": "code",
   "execution_count": 14,
   "metadata": {},
   "outputs": [
    {
     "data": {
      "text/plain": [
       "5"
      ]
     },
     "execution_count": 14,
     "metadata": {},
     "output_type": "execute_result"
    }
   ],
   "source": [
    "#Caculate the number of events\n",
    "df.event_name.nunique()"
   ]
  },
  {
   "cell_type": "code",
   "execution_count": 15,
   "metadata": {},
   "outputs": [
    {
     "data": {
      "text/plain": [
       "7551"
      ]
     },
     "execution_count": 15,
     "metadata": {},
     "output_type": "execute_result"
    }
   ],
   "source": [
    "#How many users are in the logs?\n",
    "df.user_id.nunique()"
   ]
  },
  {
   "cell_type": "code",
   "execution_count": 16,
   "metadata": {},
   "outputs": [
    {
     "data": {
      "text/plain": [
       "count    7551.000000\n",
       "mean        2.674480\n",
       "std         1.454287\n",
       "min         1.000000\n",
       "25%         1.000000\n",
       "50%         3.000000\n",
       "75%         4.000000\n",
       "max         5.000000\n",
       "Name: event_name, dtype: float64"
      ]
     },
     "execution_count": 16,
     "metadata": {},
     "output_type": "execute_result"
    }
   ],
   "source": [
    "#What's the average number of events per user?\n",
    "event_per_user = df.groupby('user_id')['event_name'].nunique().reset_index()\n",
    "event_per_user['event_name'].describe()"
   ]
  },
  {
   "cell_type": "markdown",
   "metadata": {},
   "source": [
    "So the mean is 2.67 event per user and 50% of user make not more than 3 events. We can say that the average number of events is three."
   ]
  },
  {
   "cell_type": "code",
   "execution_count": null,
   "metadata": {},
   "outputs": [],
   "source": [
    "#What period of time does the data cover? Find the maximum and the minimum date.\n",
    "print(f' From {df.date.min()} to {df.date.max()}')"
   ]
  },
  {
   "cell_type": "markdown",
   "metadata": {},
   "source": [
    "The period that covers dataframe lasts two weeks. Starts at 25 July and ends at 08 August 2019."
   ]
  },
  {
   "cell_type": "code",
   "execution_count": null,
   "metadata": {},
   "outputs": [],
   "source": [
    "#Plot a histogram by date and time.\n",
    "fig, ax = plt.subplots(figsize = (12,10))\n",
    "ax=sns.histplot(data=df, x='ts')\n",
    "\n",
    "ax.grid()\n",
    "plt.title('Users in A/A/B test')\n",
    "ax.set_xlabel('Date')\n",
    "ax.set_ylabel('Events')\n",
    "ax.xaxis.set_major_locator(mdates.DayLocator(interval=1))\n",
    "ax.xaxis.set_major_formatter(mdates.DateFormatter('%Y-%m-%d'))\n",
    "ax.tick_params(axis='x', labelrotation=45)\n",
    "\n",
    "plt.show()\n"
   ]
  },
  {
   "cell_type": "markdown",
   "metadata": {},
   "source": [
    "Looking at the distribution on graph we can't be sure that we have equally complete data for the entire period. Older events could end up in some users' logs for technical reasons, and this could skew the overall picture. \n",
    "Еhe moment at which the data starts to be complete is 2019-08-01 00:00. Let's filter the data and ignore the earlier section.\n"
   ]
  },
  {
   "cell_type": "code",
   "execution_count": null,
   "metadata": {},
   "outputs": [],
   "source": [
    "#Filter the data\n",
    "data = df.query('ts >=\"2019-08-01\"')\n",
    "data.info()"
   ]
  },
  {
   "cell_type": "code",
   "execution_count": null,
   "metadata": {},
   "outputs": [],
   "source": [
    "#How many events and users are lost?\n",
    "\n",
    "us_l = df.user_id.nunique() - data.user_id.nunique()\n",
    "\n",
    "#Print\n",
    "print(f'''we lost {len(df)-len(data)} events \n",
    "we lost {us_l} users''')"
   ]
  },
  {
   "cell_type": "markdown",
   "metadata": {},
   "source": [
    "Obviously, we have filtered not much data, the result should be still relevant."
   ]
  },
  {
   "cell_type": "code",
   "execution_count": null,
   "metadata": {},
   "outputs": [],
   "source": [
    "# Let's make sure we have users from all three experimental groups.\n",
    "data.groupby('group')['user_id'].nunique().reset_index()"
   ]
  },
  {
   "cell_type": "markdown",
   "metadata": {},
   "source": [
    "For sure we have about 2500 users in each group. The difference between the groups is acceptable."
   ]
  },
  {
   "cell_type": "markdown",
   "metadata": {},
   "source": [
    "## 4. The event funnel\n"
   ]
  },
  {
   "cell_type": "markdown",
   "metadata": {},
   "source": [
    "Let's resolve the following questions: \n",
    "\n",
    "In what order the actions took place. \n",
    "Are all of them part of a single sequence?\n",
    "\n",
    "We use the event funnel to find the share of users that proceed from each stage to the next. For the sequence of events A → B → C, calculate the ratio of users at stage B to the number of users at stage A and the ratio of users at stage C to the number at stage B.\n",
    "\n",
    "At what stage we lose the most users?\n",
    "\n",
    "What share of users make the entire journey from their first event to payment?"
   ]
  },
  {
   "cell_type": "code",
   "execution_count": null,
   "metadata": {},
   "outputs": [],
   "source": [
    "#frequency of occurrence:\n",
    "data.event_name.value_counts()\n"
   ]
  },
  {
   "cell_type": "markdown",
   "metadata": {},
   "source": [
    "The tutorial is the least frequent event, may be users just skip it."
   ]
  },
  {
   "cell_type": "code",
   "execution_count": null,
   "metadata": {},
   "outputs": [],
   "source": [
    "#Find the number of users who performed each of these actions.\n",
    "all_events_users=data.groupby('user_id')['event_name'].nunique().reset_index().query('event_name==5').shape[0]\n",
    "\n",
    "print(all_events_users)"
   ]
  },
  {
   "cell_type": "markdown",
   "metadata": {},
   "source": [
    "There are a few users who made all actions. This happens because they skip Tutorial"
   ]
  },
  {
   "cell_type": "code",
   "execution_count": null,
   "metadata": {},
   "outputs": [],
   "source": [
    "#Sort the events by the number of users.\n",
    "event_user = data.groupby('event_name')['user_id'].nunique().sort_values(ascending=False).reset_index()\n",
    "event_user.rename(columns={'user_id':'number_of_users'}, inplace=True)\n",
    "user_n = data.user_id.nunique()\n",
    "\n",
    "#Adding a column with percent of users of the event\n",
    "event_user['user_share'] = event_user.number_of_users / user_n\n",
    "event_user.user_share = event_user.user_share.apply(lambda x: \"{:.1%}\".format(x))\n",
    "event_user.head()"
   ]
  },
  {
   "cell_type": "markdown",
   "metadata": {},
   "source": [
    "Half of the users made the 4 actions and came to the page of the Payment Screen. 89% of users skip Tutorial, we should not  take this iteration to our funnel. We can determine the event funnel as:\n",
    "\n",
    "1. - Main screen Appear\n",
    "2. - Offer screen Appear\n",
    "3. - Chart screen appear\n",
    "4. - Payment screen Appear"
   ]
  },
  {
   "cell_type": "code",
   "execution_count": null,
   "metadata": {},
   "outputs": [],
   "source": [
    "#Create the function for a funnel for each group\n",
    "def funnel(group):\n",
    "    df = (data.query('group==@group').groupby('event_name')['user_id']\n",
    "              .nunique().sort_values(ascending=False).reset_index()\n",
    "    )\n",
    "    df.rename(columns={'user_id':'number_of_users'}, inplace=True)\n",
    "    df = df[df['event_name']!='Tutorial'].reset_index()\n",
    "    \n",
    "    #Adding percent of users \n",
    "    for i, row in df.iterrows():\n",
    "        if i==0:\n",
    "            df.loc[i, 'funnel'] = row['number_of_users'] / user_n\n",
    "        else:\n",
    "            df.loc[i, 'funnel'] = row['number_of_users']/df.loc[i-1, 'number_of_users']\n",
    "\n",
    "    #Adjusting format of the values in `funnel` column\n",
    "    df.funnel = df.funnel.apply(lambda x: \"{:.1%}\".format(x))\n",
    "    \n",
    "    return df"
   ]
  },
  {
   "cell_type": "code",
   "execution_count": null,
   "metadata": {},
   "outputs": [],
   "source": [
    "#Apply to group 246\n",
    "funnel_246 = funnel(246)\n",
    "funnel_246"
   ]
  },
  {
   "cell_type": "code",
   "execution_count": null,
   "metadata": {},
   "outputs": [],
   "source": [
    "#Apply function to group 247\n",
    "funnel_247 = funnel(247)\n",
    "funnel_247"
   ]
  },
  {
   "cell_type": "code",
   "execution_count": null,
   "metadata": {},
   "outputs": [],
   "source": [
    "#Applyto group 248 \n",
    "funnel_248 = funnel(248)\n",
    "funnel_248"
   ]
  },
  {
   "cell_type": "code",
   "execution_count": null,
   "metadata": {},
   "outputs": [],
   "source": [
    "#Plot funnel chart\n",
    "fig = go.Figure()\n",
    "\n",
    "fig.add_trace(go.Funnel(\n",
    "    name = 'A_group_246',\n",
    "    y = funnel_246['event_name'],\n",
    "    x = funnel_246['number_of_users'],\n",
    "    textinfo = \"value+percent previous\"))\n",
    "\n",
    "fig.add_trace(go.Funnel(\n",
    "    name = 'A_group_247',\n",
    "    y = funnel_247['event_name'],\n",
    "    x = funnel_247['number_of_users'],\n",
    "    textinfo = \"value+percent previous\"))\n",
    "\n",
    "fig.add_trace(go.Funnel(\n",
    "    name = 'B_group_248',\n",
    "    y = funnel_248['event_name'],\n",
    "    x = funnel_248['number_of_users'],\n",
    "    textinfo = \"value+percent previous\"))\n",
    "\n",
    "fig.show()\n"
   ]
  },
  {
   "cell_type": "markdown",
   "metadata": {},
   "source": [
    "- We lose 40% of users from Main screen to the next Offer screen. This part of users don't like the main page.\n",
    "\n",
    "- 20% of customers don't like Offers screen. \n",
    "\n",
    "- The number of users who are going to Pay screen from Cart screen is huge, almost all of them (95%) pay."
   ]
  },
  {
   "cell_type": "code",
   "execution_count": null,
   "metadata": {},
   "outputs": [],
   "source": [
    "#Calculate the number of users who have made at least 1 payment\n",
    "payers = data.query('event_name==\"PaymentScreenSuccessful\"')['user_id'].nunique()\n",
    "print(payers)"
   ]
  },
  {
   "cell_type": "markdown",
   "metadata": {},
   "source": [
    "So, about a half of users have made at least one payment"
   ]
  },
  {
   "cell_type": "markdown",
   "metadata": {},
   "source": [
    "## 5. The results of the experiment. A/A/B test analysis.\n"
   ]
  },
  {
   "cell_type": "markdown",
   "metadata": {},
   "source": [
    "How many users are there in each group?\n",
    "\n",
    "We have mentioned that there are about 2500 users in each of tested groups. The difference of users between the groups is just about 2%. In A/A/B test we compare number of users and the share of total users who perform the certain action. We'd like to know if there is a statistically significant difference between the groups. Before making a test with the group we should compare control groups with each other to be sure that there is no statistically significant difference between them."
   ]
  },
  {
   "cell_type": "code",
   "execution_count": null,
   "metadata": {},
   "outputs": [],
   "source": [
    "#Filter data with queries\n",
    "a1 = data.query('group==246')\n",
    "a2 = data.query('group==247')\n",
    "b = data.query('group==248')\n",
    "\n",
    "#Check rows\n",
    "sum([len(a1), len(a2), len(b)]) == len(data)"
   ]
  },
  {
   "cell_type": "markdown",
   "metadata": {},
   "source": [
    "Now we should to repeat the procedure for all other events, so it will save time if we create a special function for this test."
   ]
  },
  {
   "cell_type": "code",
   "execution_count": null,
   "metadata": {},
   "outputs": [],
   "source": [
    "def group_event_share(g1, g2, event):\n",
    "    #Find number of total users in groups\n",
    "    us_n_g1 = g1.user_id.nunique()\n",
    "    us_n_g2 = g2.user_id.nunique()\n",
    "    \n",
    "    #Find number of users of an event\n",
    "    us_n_g1_ac = g1.query('event_name == @event')['user_id'].nunique()\n",
    "    us_n_g2_ac = g2.query('event_name == @event')['user_id'].nunique()\n",
    "    \n",
    "    #Find shares of user of event\n",
    "    share_g1 = us_n_g1_ac / us_n_g1\n",
    "    share_g2 = us_n_g2_ac / us_n_g2\n",
    "    \n",
    "    #Find relative difference\n",
    "    diff = share_g2 / share_g1 - 1\n",
    "    \n",
    "    #print\n",
    "    return print(f'''    Share of users who perform {event} from the first group is {share_g1:.1%}\n",
    "    Share of users who perform {event} from the second group is {share_g2:.1%}\n",
    "    Relative difference is {diff:.2%}''')\n",
    "\n",
    "group_event_share(a1, a2, \"MainScreenAppear\")"
   ]
  },
  {
   "cell_type": "markdown",
   "metadata": {},
   "source": [
    "There is no difference at all. We need to prove this statistically with Z-test. "
   ]
  },
  {
   "cell_type": "code",
   "execution_count": null,
   "metadata": {},
   "outputs": [],
   "source": [
    "def test(g1, g2, event):\n",
    "    #number of total users in groups\n",
    "    us_n_g1 = g1.user_id.nunique()\n",
    "    us_n_g2 = g2.user_id.nunique()\n",
    "    \n",
    "    #number of users performed a certain event\n",
    "    us_n_g1_ac = g1.query('event_name == @event')['user_id'].nunique()\n",
    "    us_n_g2_ac = g2.query('event_name == @event')['user_id'].nunique()\n",
    "           \n",
    "    #variables for the test\n",
    "    count = [us_n_g1_ac, us_n_g2_ac]\n",
    "    nobs = [us_n_g1, us_n_g2]\n",
    "    stat, pval = proportions_ztest(count, nobs)\n",
    "    \n",
    "    #statistical significancy\n",
    "    alpha=0.05\n",
    "    \n",
    "    if pval <alpha:\n",
    "        print(f'''Groups 1 and 2 are statistically different in permorming {event}. p-value is: {pval:.3f}\n",
    "    We reject null hypothesis.''')\n",
    "    else:\n",
    "        print(f'''We can not reject null hypothesis, because we can not confirm that there is statistical difference\n",
    "in performing {event} for groups 1 and 2. p-value is: {pval:.3f}''')\n",
    "        \n",
    "test(a1, a2, \"MainScreenAppear\")"
   ]
  },
  {
   "cell_type": "markdown",
   "metadata": {},
   "source": [
    "We see that the difference between our control groups in number of users who saw 'MainScreenAppear' in the application is not statistically significant. Let's formulate our hypotheses and perform the tests for each event for our control groups.\n",
    "\n",
    "Hypotheses regarding number of users who perform a certain event:\n",
    " Difference in proportion of users who performed a certain event for both groups 1 and 2 are statistically insignificant.\n",
    " Difference in proportion of users who performed a certain event for both groups 1 and 2 are statistically significant."
   ]
  },
  {
   "cell_type": "code",
   "execution_count": null,
   "metadata": {},
   "outputs": [],
   "source": [
    "#list of event_names\n",
    "events = data.event_name.unique()\n",
    "\n",
    "#a loop through `event_name` column\n",
    "print('Comparison of proportion of users who performed different events between control groups:\\n ')\n",
    "for event in events:\n",
    "    group_event_share(a1, a2, event)\n",
    "    test(a1, a2, event)\n",
    "    print()"
   ]
  },
  {
   "cell_type": "markdown",
   "metadata": {},
   "source": [
    "\n",
    "\n",
    "So the difference between the control groups is not statistically significant."
   ]
  },
  {
   "cell_type": "code",
   "execution_count": null,
   "metadata": {},
   "outputs": [],
   "source": [
    "#Comparison between Group 246 and 248\n",
    "#a loop through `event_name` column\n",
    "print('Comparison of number users who performed different events between groups 246 and 248:\\n ')\n",
    "for event in events:\n",
    "    group_event_share(a1, b, event)\n",
    "    test(a1, b, event)\n",
    "    print()"
   ]
  },
  {
   "cell_type": "markdown",
   "metadata": {},
   "source": [
    "The  result is the same.\n",
    "\n",
    "The difference in 'Cart screen appear' is very close to the level of statistical significance 0.078. "
   ]
  },
  {
   "cell_type": "code",
   "execution_count": null,
   "metadata": {},
   "outputs": [],
   "source": [
    "#Compare between 247 and 248 #a loop through `event_name` column\n",
    "print('Comparison of number users who involved in different events between groups 247 and 248:\\n ')\n",
    "for event in events:\n",
    "    group_event_share(a2, b, event)\n",
    "    test(a2, b, event)\n",
    "    print()"
   ]
  },
  {
   "cell_type": "markdown",
   "metadata": {},
   "source": [
    "There is no statistically significant difference between those groups. Now merge our control groups together and compare control group with the group with altered fonts."
   ]
  },
  {
   "cell_type": "code",
   "execution_count": null,
   "metadata": {},
   "outputs": [],
   "source": [
    "#control group\n",
    "a = data.query('group!=248')\n",
    "\n",
    "#Comparison between new control group and group with altered fonts\n",
    "#a loop through `event_name` column\n",
    "print('Comparison of number of users who involved in different events between combined group A and group 248 (B):\\n ')\n",
    "for event in events:\n",
    "    group_event_share(a, b, event)\n",
    "    test(a, b, event)\n",
    "    print()"
   ]
  },
  {
   "cell_type": "markdown",
   "metadata": {},
   "source": [
    "Acording to the tests we can not confirm that altered fonts would lead in change in users behavior. We made 20 tests in total. 15 tests to compare 5 events between 2 control groups and group with altered founts and 5 more for joined control group and group with altered fonts. All the tests show no statistically significant difference in share of users who perform certain event for each of them.\n",
    "\n"
   ]
  },
  {
   "cell_type": "markdown",
   "metadata": {},
   "source": [
    "#### Conclusions about the level of statistical significance.  \n",
    "With the level of 0.05 one of 20 tests can be false, so the choice is right. If we increase the level to 0.1, each of 10 tests could be false, so it's better to leave it no higher then 0.05. "
   ]
  },
  {
   "cell_type": "markdown",
   "metadata": {},
   "source": [
    "# General conclusions\n",
    "\n",
    "\n",
    "The purposes of the analysis were to find out the event funnel, determine how users reach the purchase stage and then to perform A/A/B test to investigate whether the change in design of the fonts for the entire application  improves the user's behavior.\n",
    "\n",
    "We have records of users actions in the app. From the row data we droped 413 duplicates (0.17% of the data), changed type of the time stamp column to datetime and added the column with the date of the event, we left only one the last week for the analysis. After filtering we lost just 1.2% of the events and 0.2% of the total users. \n",
    "\n",
    "In average each user makes 3 different events when using the application. We have almost the same amount of users in each group. There are 466 users involved in all the events. This is 6.2% of total users. Almost half of the users (47%) made 4 from 5 events. We saw that the most of users skip tutorial screen. The Cart screen sometimes appears later than the payment was executed.The event funnel is:\n",
    "\n",
    "    >Main screen appear\n",
    "\n",
    "        >Offer screen appear\n",
    "\n",
    "            >Chart screen appear\n",
    "\n",
    "                >Payment screen appear\n",
    "\n",
    "40% of users see the main page and do not continue interaction. \n",
    "\n",
    "Than 20% of customers don't like the offer screen.\n",
    "\n",
    "95% of users are going to pay after look at the cart screen.\n",
    "\n",
    "\n",
    "There are 3539 users who made at least 1 payment. This share is 47.0% of total users.\n",
    "\n",
    "We confirmed that maximum difference in number of users between the groups is 2% which is acceptable. In order to compare the share of users who performed certain action we did Z-test for proportions. Before making a test between the group who has altering fonts and a control group we compared both control groups between each other to be sure that there is no statistically significant difference and we could continue our test.\n",
    "\n",
    "We formulated hypotheses and performed the tests for each event for our control groups.\n",
    "\n",
    "Hypotheses regarding number of users who perform a certain event:\n",
    " 0.Difference in proportion of users who performed a certain event for both groups 1 and 2 are statistically insignificant.\n",
    " Alternative. Difference in proportion of users who performed a certain event for both groups 1 and 2 are statistically significant. The level of statistical significance - 0.05\n",
    "\n",
    "The difference between the control groups is not statistically significant for each event, although there is rather big difference in payment event (about 5%). And the p-value is twice larger than our alpha parameter (0.05). So it is still statistically insignificant. We merge control groups together and compare it with the group with altered fonts.\n",
    "\n",
    "\n",
    "#### All the tests showed that we can not confirm that altered fonts imrove the user's behavior.  We do not recommend to make changes in the application."
   ]
  }
 ],
 "metadata": {
  "kernelspec": {
   "display_name": "Python 3 (ipykernel)",
   "language": "python",
   "name": "python3"
  },
  "language_info": {
   "codemirror_mode": {
    "name": "ipython",
    "version": 3
   },
   "file_extension": ".py",
   "mimetype": "text/x-python",
   "name": "python",
   "nbconvert_exporter": "python",
   "pygments_lexer": "ipython3",
   "version": "3.9.13"
  },
  "toc": {
   "base_numbering": 1,
   "nav_menu": {},
   "number_sections": true,
   "sideBar": true,
   "skip_h1_title": true,
   "title_cell": "Table of Contents",
   "title_sidebar": "Contents",
   "toc_cell": false,
   "toc_position": {},
   "toc_section_display": true,
   "toc_window_display": false
  }
 },
 "nbformat": 4,
 "nbformat_minor": 2
}
